{
 "cells": [
  {
   "cell_type": "code",
   "execution_count": 2,
   "metadata": {},
   "outputs": [],
   "source": [
    "import pandas as pd\n",
    "import numpy as np"
   ]
  },
  {
   "cell_type": "code",
   "execution_count": 5,
   "metadata": {},
   "outputs": [],
   "source": [
    "file_one = \"Files/1_county_level_confirmed_cases.csv\""
   ]
  },
  {
   "cell_type": "code",
   "execution_count": 7,
   "metadata": {},
   "outputs": [
    {
     "data": {
      "text/html": [
       "<div>\n",
       "<style scoped>\n",
       "    .dataframe tbody tr th:only-of-type {\n",
       "        vertical-align: middle;\n",
       "    }\n",
       "\n",
       "    .dataframe tbody tr th {\n",
       "        vertical-align: top;\n",
       "    }\n",
       "\n",
       "    .dataframe thead th {\n",
       "        text-align: right;\n",
       "    }\n",
       "</style>\n",
       "<table border=\"1\" class=\"dataframe\">\n",
       "  <thead>\n",
       "    <tr style=\"text-align: right;\">\n",
       "      <th></th>\n",
       "      <th>last_update</th>\n",
       "      <th>location_type</th>\n",
       "      <th>state</th>\n",
       "      <th>county_name</th>\n",
       "      <th>county_name_long</th>\n",
       "      <th>fips_code</th>\n",
       "      <th>lat</th>\n",
       "      <th>lon</th>\n",
       "      <th>NCHS_urbanization</th>\n",
       "      <th>total_population</th>\n",
       "      <th>confirmed</th>\n",
       "      <th>confirmed_per_100000</th>\n",
       "      <th>deaths</th>\n",
       "      <th>deaths_per_100000</th>\n",
       "    </tr>\n",
       "  </thead>\n",
       "  <tbody>\n",
       "    <tr>\n",
       "      <th>0</th>\n",
       "      <td>2020-10-22 02:24:33 UTC</td>\n",
       "      <td>county</td>\n",
       "      <td>Alabama</td>\n",
       "      <td>Autauga</td>\n",
       "      <td>Autauga, Alabama, US</td>\n",
       "      <td>1001.0</td>\n",
       "      <td>32.539527</td>\n",
       "      <td>-86.644082</td>\n",
       "      <td>Medium metro</td>\n",
       "      <td>55200.0</td>\n",
       "      <td>2021</td>\n",
       "      <td>3661.23</td>\n",
       "      <td>30</td>\n",
       "      <td>54.35</td>\n",
       "    </tr>\n",
       "    <tr>\n",
       "      <th>1</th>\n",
       "      <td>2020-10-22 02:24:33 UTC</td>\n",
       "      <td>county</td>\n",
       "      <td>Alabama</td>\n",
       "      <td>Baldwin</td>\n",
       "      <td>Baldwin, Alabama, US</td>\n",
       "      <td>1003.0</td>\n",
       "      <td>30.727750</td>\n",
       "      <td>-87.722071</td>\n",
       "      <td>Small metro</td>\n",
       "      <td>208107.0</td>\n",
       "      <td>6443</td>\n",
       "      <td>3096.00</td>\n",
       "      <td>69</td>\n",
       "      <td>33.16</td>\n",
       "    </tr>\n",
       "    <tr>\n",
       "      <th>2</th>\n",
       "      <td>2020-10-22 02:24:33 UTC</td>\n",
       "      <td>county</td>\n",
       "      <td>Alabama</td>\n",
       "      <td>Barbour</td>\n",
       "      <td>Barbour, Alabama, US</td>\n",
       "      <td>1005.0</td>\n",
       "      <td>31.868263</td>\n",
       "      <td>-85.387129</td>\n",
       "      <td>Non-core</td>\n",
       "      <td>25782.0</td>\n",
       "      <td>996</td>\n",
       "      <td>3863.16</td>\n",
       "      <td>9</td>\n",
       "      <td>34.91</td>\n",
       "    </tr>\n",
       "    <tr>\n",
       "      <th>3</th>\n",
       "      <td>2020-10-22 02:24:33 UTC</td>\n",
       "      <td>county</td>\n",
       "      <td>Alabama</td>\n",
       "      <td>Bibb</td>\n",
       "      <td>Bibb, Alabama, US</td>\n",
       "      <td>1007.0</td>\n",
       "      <td>32.996421</td>\n",
       "      <td>-87.125115</td>\n",
       "      <td>Large fringe metro</td>\n",
       "      <td>22527.0</td>\n",
       "      <td>801</td>\n",
       "      <td>3555.73</td>\n",
       "      <td>14</td>\n",
       "      <td>62.15</td>\n",
       "    </tr>\n",
       "    <tr>\n",
       "      <th>4</th>\n",
       "      <td>2020-10-22 02:24:33 UTC</td>\n",
       "      <td>county</td>\n",
       "      <td>Alabama</td>\n",
       "      <td>Blount</td>\n",
       "      <td>Blount, Alabama, US</td>\n",
       "      <td>1009.0</td>\n",
       "      <td>33.982109</td>\n",
       "      <td>-86.567906</td>\n",
       "      <td>Large fringe metro</td>\n",
       "      <td>57645.0</td>\n",
       "      <td>1873</td>\n",
       "      <td>3249.20</td>\n",
       "      <td>25</td>\n",
       "      <td>43.37</td>\n",
       "    </tr>\n",
       "  </tbody>\n",
       "</table>\n",
       "</div>"
      ],
      "text/plain": [
       "               last_update location_type    state county_name  \\\n",
       "0  2020-10-22 02:24:33 UTC        county  Alabama     Autauga   \n",
       "1  2020-10-22 02:24:33 UTC        county  Alabama     Baldwin   \n",
       "2  2020-10-22 02:24:33 UTC        county  Alabama     Barbour   \n",
       "3  2020-10-22 02:24:33 UTC        county  Alabama        Bibb   \n",
       "4  2020-10-22 02:24:33 UTC        county  Alabama      Blount   \n",
       "\n",
       "       county_name_long  fips_code        lat        lon   NCHS_urbanization  \\\n",
       "0  Autauga, Alabama, US     1001.0  32.539527 -86.644082        Medium metro   \n",
       "1  Baldwin, Alabama, US     1003.0  30.727750 -87.722071         Small metro   \n",
       "2  Barbour, Alabama, US     1005.0  31.868263 -85.387129            Non-core   \n",
       "3     Bibb, Alabama, US     1007.0  32.996421 -87.125115  Large fringe metro   \n",
       "4   Blount, Alabama, US     1009.0  33.982109 -86.567906  Large fringe metro   \n",
       "\n",
       "   total_population  confirmed  confirmed_per_100000  deaths  \\\n",
       "0           55200.0       2021               3661.23      30   \n",
       "1          208107.0       6443               3096.00      69   \n",
       "2           25782.0        996               3863.16       9   \n",
       "3           22527.0        801               3555.73      14   \n",
       "4           57645.0       1873               3249.20      25   \n",
       "\n",
       "   deaths_per_100000  \n",
       "0              54.35  \n",
       "1              33.16  \n",
       "2              34.91  \n",
       "3              62.15  \n",
       "4              43.37  "
      ]
     },
     "execution_count": 7,
     "metadata": {},
     "output_type": "execute_result"
    }
   ],
   "source": [
    "file_one_df = pd.read_csv(file_one, encoding=\"ISO-8859-1\")\n",
    "file_one_df.head()"
   ]
  },
  {
   "cell_type": "code",
   "execution_count": 17,
   "metadata": {},
   "outputs": [
    {
     "data": {
      "text/plain": [
       "0          32.53952745, -86.64408227\n",
       "1          30.72774991, -87.72207058\n",
       "2             31.868263, -85.3871286\n",
       "3    32.99642064, -87.12511459999999\n",
       "4          33.98210918, -86.56790593\n",
       "dtype: object"
      ]
     },
     "execution_count": 17,
     "metadata": {},
     "output_type": "execute_result"
    }
   ],
   "source": [
    "df = file_one_df[\"lat\"].astype(str) + \", \" + file_one_df[\"lon\"].astype(str)\n",
    "df.head()"
   ]
  },
  {
   "cell_type": "code",
   "execution_count": null,
   "metadata": {},
   "outputs": [],
   "source": [
    "df_new = file_one.rename(columns={\"FFR16\": \"Fast Food Restaurants '16\",\"FSR16\":\"Full-Service Restaurants '16\",\"STATE\":\"State\",\"COUNTY\":\"County\"})\n",
    "df_new.head()"
   ]
  },
  {
   "cell_type": "code",
   "execution_count": null,
   "metadata": {},
   "outputs": [],
   "source": [
    "# file_one_df = pd.DataFrame(file_one, columns = ['STATE'],['county_name'])"
   ]
  }
 ],
 "metadata": {
  "kernelspec": {
   "display_name": "Python 3",
   "language": "python",
   "name": "python3"
  },
  "language_info": {
   "codemirror_mode": {
    "name": "ipython",
    "version": 3
   },
   "file_extension": ".py",
   "mimetype": "text/x-python",
   "name": "python",
   "nbconvert_exporter": "python",
   "pygments_lexer": "ipython3",
   "version": "3.8.5"
  }
 },
 "nbformat": 4,
 "nbformat_minor": 4
}
